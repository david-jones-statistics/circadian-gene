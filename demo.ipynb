{
 "cells": [
  {
   "cell_type": "markdown",
   "metadata": {},
   "source": [
    "# Exploration of Circadian Gene Data Set\n",
    "\n",
    "[Circadian genes](https://en.wikipedia.org/wiki/Circadian_clock) oscillate in their expression on cycles of about 24 hours. It is of interest to identify genes with this behavior.\n",
    "\n",
    "[Professor Bell-Pederson](http://www.bio.tamu.edu/index.php/faculty/bell-pedersen/lab/) of TAMU collected "
   ]
  },
  {
   "cell_type": "code",
   "execution_count": 6,
   "metadata": {
    "collapsed": true
   },
   "outputs": [],
   "source": [
    "dat <- read.table(\"circadian.txt\",header=TRUE)\n",
    "dim(dat)\n",
    "head(dat)"
   ]
  },
  {
   "cell_type": "code",
   "execution_count": 7,
   "metadata": {
    "collapsed": false
   },
   "outputs": [
    {
     "data": {
      "text/html": [
       "<ol class=list-inline>\n",
       "\t<li>9730</li>\n",
       "\t<li>31</li>\n",
       "</ol>\n"
      ],
      "text/latex": [
       "\\begin{enumerate*}\n",
       "\\item 9730\n",
       "\\item 31\n",
       "\\end{enumerate*}\n"
      ],
      "text/markdown": [
       "1. 9730\n",
       "2. 31\n",
       "\n",
       "\n"
      ],
      "text/plain": [
       "[1] 9730   31"
      ]
     },
     "metadata": {},
     "output_type": "display_data"
    }
   ],
   "source": []
  },
  {
   "cell_type": "code",
   "execution_count": 8,
   "metadata": {
    "collapsed": false
   },
   "outputs": [
    {
     "data": {
      "text/html": [
       "<table>\n",
       "<thead><tr><th scope=col>Gene_ID</th><th scope=col>X12</th><th scope=col>X12.1</th><th scope=col>X12.2</th><th scope=col>X16</th><th scope=col>X16.1</th><th scope=col>X16.2</th><th scope=col>X20</th><th scope=col>X20.1</th><th scope=col>X20.2</th><th scope=col>⋯</th><th scope=col>X36.2</th><th scope=col>X40</th><th scope=col>X40.1</th><th scope=col>X40.2</th><th scope=col>X44</th><th scope=col>X44.1</th><th scope=col>X44.2</th><th scope=col>X48</th><th scope=col>X48.1</th><th scope=col>X48.2</th></tr></thead>\n",
       "<tbody>\n",
       "\t<tr><td>NCU00003</td><td>18.23180</td><td>11.9564 </td><td>13.96350</td><td>11.80200</td><td> 7.40746</td><td>10.28420</td><td>16.03080</td><td> 8.89317</td><td>10.98890</td><td>⋯       </td><td> 9.92339</td><td> 7.63593</td><td>10.07740</td><td>10.09710</td><td> 7.33650</td><td>10.76880</td><td>10.89410</td><td> 7.36263</td><td>11.19090</td><td> 9.84929</td></tr>\n",
       "\t<tr><td>NCU00004</td><td>18.16590</td><td>12.2630 </td><td>13.35260</td><td>10.28890</td><td> 7.22926</td><td>11.88580</td><td>11.69140</td><td> 8.36114</td><td>13.52080</td><td>⋯       </td><td>11.80670</td><td>13.24550</td><td>14.05210</td><td>10.43500</td><td>11.67130</td><td>21.66810</td><td>11.16750</td><td>10.79610</td><td>12.64390</td><td>10.75090</td></tr>\n",
       "\t<tr><td>NCU00005</td><td> 7.59390</td><td>10.4833 </td><td> 9.98661</td><td> 6.06526</td><td>13.31940</td><td> 8.05523</td><td> 6.39237</td><td>10.02530</td><td> 7.57039</td><td>⋯       </td><td>10.14740</td><td> 6.60491</td><td> 7.14180</td><td> 9.80762</td><td> 6.94721</td><td> 7.23858</td><td> 9.70264</td><td> 6.92626</td><td>10.28320</td><td> 9.53955</td></tr>\n",
       "\t<tr><td>NCU00006</td><td> 8.13646</td><td>13.2887 </td><td>14.43660</td><td> 7.02290</td><td>16.58520</td><td>11.84210</td><td> 7.15260</td><td>15.94410</td><td>11.13670</td><td>⋯       </td><td>10.25920</td><td> 6.93328</td><td> 7.93487</td><td> 9.73363</td><td> 6.26978</td><td>10.58170</td><td>10.00790</td><td> 7.61746</td><td>11.07420</td><td>10.65370</td></tr>\n",
       "\t<tr><td>NCU00007</td><td> 8.25476</td><td>12.6829 </td><td> 8.72479</td><td> 8.33608</td><td>19.27830</td><td> 7.21321</td><td>12.22070</td><td>21.95150</td><td> 7.69846</td><td>⋯       </td><td> 7.29279</td><td> 6.73393</td><td> 9.31756</td><td> 7.37113</td><td> 5.18746</td><td>11.10810</td><td> 7.63542</td><td> 7.29360</td><td> 7.84281</td><td> 6.77245</td></tr>\n",
       "\t<tr><td>NCU00008</td><td> 9.73339</td><td>11.5292 </td><td>16.54700</td><td> 7.23199</td><td> 8.86995</td><td>14.31700</td><td> 5.45594</td><td> 4.84097</td><td>13.00280</td><td>⋯       </td><td>14.80570</td><td> 9.34543</td><td>11.96210</td><td>15.14480</td><td>10.58040</td><td>15.82780</td><td>14.06670</td><td> 9.38736</td><td>14.25750</td><td>13.87520</td></tr>\n",
       "</tbody>\n",
       "</table>\n"
      ],
      "text/latex": [
       "\\begin{tabular}{r|lllllllllllllllllllllllllllllll}\n",
       " Gene\\_ID & X12 & X12.1 & X12.2 & X16 & X16.1 & X16.2 & X20 & X20.1 & X20.2 & ⋯ & X36.2 & X40 & X40.1 & X40.2 & X44 & X44.1 & X44.2 & X48 & X48.1 & X48.2\\\\\n",
       "\\hline\n",
       "\t NCU00003 & 18.23180 & 11.9564  & 13.96350 & 11.80200 &  7.40746 & 10.28420 & 16.03080 &  8.89317 & 10.98890 & ⋯        &  9.92339 &  7.63593 & 10.07740 & 10.09710 &  7.33650 & 10.76880 & 10.89410 &  7.36263 & 11.19090 &  9.84929\\\\\n",
       "\t NCU00004 & 18.16590 & 12.2630  & 13.35260 & 10.28890 &  7.22926 & 11.88580 & 11.69140 &  8.36114 & 13.52080 & ⋯        & 11.80670 & 13.24550 & 14.05210 & 10.43500 & 11.67130 & 21.66810 & 11.16750 & 10.79610 & 12.64390 & 10.75090\\\\\n",
       "\t NCU00005 &  7.59390 & 10.4833  &  9.98661 &  6.06526 & 13.31940 &  8.05523 &  6.39237 & 10.02530 &  7.57039 & ⋯        & 10.14740 &  6.60491 &  7.14180 &  9.80762 &  6.94721 &  7.23858 &  9.70264 &  6.92626 & 10.28320 &  9.53955\\\\\n",
       "\t NCU00006 &  8.13646 & 13.2887  & 14.43660 &  7.02290 & 16.58520 & 11.84210 &  7.15260 & 15.94410 & 11.13670 & ⋯        & 10.25920 &  6.93328 &  7.93487 &  9.73363 &  6.26978 & 10.58170 & 10.00790 &  7.61746 & 11.07420 & 10.65370\\\\\n",
       "\t NCU00007 &  8.25476 & 12.6829  &  8.72479 &  8.33608 & 19.27830 &  7.21321 & 12.22070 & 21.95150 &  7.69846 & ⋯        &  7.29279 &  6.73393 &  9.31756 &  7.37113 &  5.18746 & 11.10810 &  7.63542 &  7.29360 &  7.84281 &  6.77245\\\\\n",
       "\t NCU00008 &  9.73339 & 11.5292  & 16.54700 &  7.23199 &  8.86995 & 14.31700 &  5.45594 &  4.84097 & 13.00280 & ⋯        & 14.80570 &  9.34543 & 11.96210 & 15.14480 & 10.58040 & 15.82780 & 14.06670 &  9.38736 & 14.25750 & 13.87520\\\\\n",
       "\\end{tabular}\n"
      ],
      "text/markdown": [
       "\n",
       "Gene_ID | X12 | X12.1 | X12.2 | X16 | X16.1 | X16.2 | X20 | X20.1 | X20.2 | ⋯ | X36.2 | X40 | X40.1 | X40.2 | X44 | X44.1 | X44.2 | X48 | X48.1 | X48.2 | \n",
       "|---|---|---|---|---|---|\n",
       "| NCU00003 | 18.23180 | 11.9564  | 13.96350 | 11.80200 |  7.40746 | 10.28420 | 16.03080 |  8.89317 | 10.98890 | ⋯        |  9.92339 |  7.63593 | 10.07740 | 10.09710 |  7.33650 | 10.76880 | 10.89410 |  7.36263 | 11.19090 |  9.84929 | \n",
       "| NCU00004 | 18.16590 | 12.2630  | 13.35260 | 10.28890 |  7.22926 | 11.88580 | 11.69140 |  8.36114 | 13.52080 | ⋯        | 11.80670 | 13.24550 | 14.05210 | 10.43500 | 11.67130 | 21.66810 | 11.16750 | 10.79610 | 12.64390 | 10.75090 | \n",
       "| NCU00005 |  7.59390 | 10.4833  |  9.98661 |  6.06526 | 13.31940 |  8.05523 |  6.39237 | 10.02530 |  7.57039 | ⋯        | 10.14740 |  6.60491 |  7.14180 |  9.80762 |  6.94721 |  7.23858 |  9.70264 |  6.92626 | 10.28320 |  9.53955 | \n",
       "| NCU00006 |  8.13646 | 13.2887  | 14.43660 |  7.02290 | 16.58520 | 11.84210 |  7.15260 | 15.94410 | 11.13670 | ⋯        | 10.25920 |  6.93328 |  7.93487 |  9.73363 |  6.26978 | 10.58170 | 10.00790 |  7.61746 | 11.07420 | 10.65370 | \n",
       "| NCU00007 |  8.25476 | 12.6829  |  8.72479 |  8.33608 | 19.27830 |  7.21321 | 12.22070 | 21.95150 |  7.69846 | ⋯        |  7.29279 |  6.73393 |  9.31756 |  7.37113 |  5.18746 | 11.10810 |  7.63542 |  7.29360 |  7.84281 |  6.77245 | \n",
       "| NCU00008 |  9.73339 | 11.5292  | 16.54700 |  7.23199 |  8.86995 | 14.31700 |  5.45594 |  4.84097 | 13.00280 | ⋯        | 14.80570 |  9.34543 | 11.96210 | 15.14480 | 10.58040 | 15.82780 | 14.06670 |  9.38736 | 14.25750 | 13.87520 | \n",
       "\n",
       "\n"
      ],
      "text/plain": [
       "  Gene_ID  X12      X12.1   X12.2    X16      X16.1    X16.2    X20     \n",
       "1 NCU00003 18.23180 11.9564 13.96350 11.80200  7.40746 10.28420 16.03080\n",
       "2 NCU00004 18.16590 12.2630 13.35260 10.28890  7.22926 11.88580 11.69140\n",
       "3 NCU00005  7.59390 10.4833  9.98661  6.06526 13.31940  8.05523  6.39237\n",
       "4 NCU00006  8.13646 13.2887 14.43660  7.02290 16.58520 11.84210  7.15260\n",
       "5 NCU00007  8.25476 12.6829  8.72479  8.33608 19.27830  7.21321 12.22070\n",
       "6 NCU00008  9.73339 11.5292 16.54700  7.23199  8.86995 14.31700  5.45594\n",
       "  X20.1    X20.2    ⋯ X36.2    X40      X40.1    X40.2    X44      X44.1   \n",
       "1  8.89317 10.98890 ⋯  9.92339  7.63593 10.07740 10.09710  7.33650 10.76880\n",
       "2  8.36114 13.52080 ⋯ 11.80670 13.24550 14.05210 10.43500 11.67130 21.66810\n",
       "3 10.02530  7.57039 ⋯ 10.14740  6.60491  7.14180  9.80762  6.94721  7.23858\n",
       "4 15.94410 11.13670 ⋯ 10.25920  6.93328  7.93487  9.73363  6.26978 10.58170\n",
       "5 21.95150  7.69846 ⋯  7.29279  6.73393  9.31756  7.37113  5.18746 11.10810\n",
       "6  4.84097 13.00280 ⋯ 14.80570  9.34543 11.96210 15.14480 10.58040 15.82780\n",
       "  X44.2    X48      X48.1    X48.2   \n",
       "1 10.89410  7.36263 11.19090  9.84929\n",
       "2 11.16750 10.79610 12.64390 10.75090\n",
       "3  9.70264  6.92626 10.28320  9.53955\n",
       "4 10.00790  7.61746 11.07420 10.65370\n",
       "5  7.63542  7.29360  7.84281  6.77245\n",
       "6 14.06670  9.38736 14.25750 13.87520"
      ]
     },
     "metadata": {},
     "output_type": "display_data"
    }
   ],
   "source": []
  },
  {
   "cell_type": "markdown",
   "metadata": {
    "collapsed": true
   },
   "source": [
    "## Possible Project Directions\n",
    "\n",
    "* Determine the sorts of shapes that circadian genes have and then build algorithms which are specifically designed to detect those shapes.\n",
    "\n",
    "* Find groups of circadian genes that have similar phases, amplitudes, or expression\n",
    "\n",
    "* Analyze a data set collected by your lab. Perhaps compare results you got from using JTK to results from using other methods. We can get this get this to you.\n",
    "\n",
    "* Develop a method that returns the probability that a gene is circadian, rather than a p-value.\n",
    "\n",
    "* Study how to use multiple measure of expression made at the same time point. Is averaging the expressions best, or is there some other procedure which works better?"
   ]
  },
  {
   "cell_type": "code",
   "execution_count": null,
   "metadata": {
    "collapsed": true
   },
   "outputs": [],
   "source": []
  }
 ],
 "metadata": {
  "kernelspec": {
   "display_name": "R",
   "language": "R",
   "name": "ir"
  },
  "language_info": {
   "codemirror_mode": "r",
   "file_extension": ".r",
   "mimetype": "text/x-r-source",
   "name": "R",
   "pygments_lexer": "r",
   "version": "3.4.3"
  }
 },
 "nbformat": 4,
 "nbformat_minor": 1
}
