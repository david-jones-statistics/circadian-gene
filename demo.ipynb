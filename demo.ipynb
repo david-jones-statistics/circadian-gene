{
 "cells": [
  {
   "cell_type": "markdown",
   "metadata": {},
   "source": [
    "# Exploration of Circadian Gene Data Set\n",
    "\n",
    "[Circadian genes](https://en.wikipedia.org/wiki/Circadian_clock) oscillate in their expression on cycles of about 24 hours. It is of interest to identify genes with this behavior.\n",
    "\n",
    "[The 2017 Nobel Prize in Physiology or Medicine](https://www.nature.com/collections/qblmqqfswz) was awarded for discovery and characterization of these circadian / rhythmic genes.\n",
    "\n",
    "[Professor Bell-Pederson's Lab](http://www.bio.tamu.edu/index.php/faculty/bell-pedersen/lab/) at TAMU collected this data.\n",
    "\n",
    "We begin by exploring the data set a bit and then lay out some questions that you could work on as part of the 689 project."
   ]
  },
  {
   "cell_type": "code",
   "execution_count": 29,
   "metadata": {
    "collapsed": true
   },
   "outputs": [],
   "source": [
    "dat <- read.table(\"circadian.txt\",header=TRUE,row.names=1)"
   ]
  },
  {
   "cell_type": "markdown",
   "metadata": {},
   "source": [
    "Each gene expression was measured at times 12 through 48 in time increments of 4 hours. There are three replicates at each time. So the column X16 is the first replicate at time 16, X16.1 is the second replicate at time 16, and X16.2 is the third replicate at time 16."
   ]
  },
  {
   "cell_type": "code",
   "execution_count": 30,
   "metadata": {
    "collapsed": false
   },
   "outputs": [
    {
     "data": {
      "text/html": [
       "<ol class=list-inline>\n",
       "\t<li>9730</li>\n",
       "\t<li>30</li>\n",
       "</ol>\n"
      ],
      "text/latex": [
       "\\begin{enumerate*}\n",
       "\\item 9730\n",
       "\\item 30\n",
       "\\end{enumerate*}\n"
      ],
      "text/markdown": [
       "1. 9730\n",
       "2. 30\n",
       "\n",
       "\n"
      ],
      "text/plain": [
       "[1] 9730   30"
      ]
     },
     "metadata": {},
     "output_type": "display_data"
    },
    {
     "data": {
      "text/html": [
       "<table>\n",
       "<thead><tr><th></th><th scope=col>X12</th><th scope=col>X12.1</th><th scope=col>X12.2</th><th scope=col>X16</th><th scope=col>X16.1</th><th scope=col>X16.2</th><th scope=col>X20</th><th scope=col>X20.1</th><th scope=col>X20.2</th><th scope=col>X24</th><th scope=col>⋯</th><th scope=col>X36.2</th><th scope=col>X40</th><th scope=col>X40.1</th><th scope=col>X40.2</th><th scope=col>X44</th><th scope=col>X44.1</th><th scope=col>X44.2</th><th scope=col>X48</th><th scope=col>X48.1</th><th scope=col>X48.2</th></tr></thead>\n",
       "<tbody>\n",
       "\t<tr><th scope=row>NCU00003</th><td>18.23180</td><td>11.9564 </td><td>13.96350</td><td>11.80200</td><td> 7.40746</td><td>10.28420</td><td>16.03080</td><td> 8.89317</td><td>10.98890</td><td>15.26650</td><td>⋯       </td><td> 9.92339</td><td> 7.63593</td><td>10.07740</td><td>10.09710</td><td> 7.33650</td><td>10.76880</td><td>10.89410</td><td> 7.36263</td><td>11.19090</td><td> 9.84929</td></tr>\n",
       "\t<tr><th scope=row>NCU00004</th><td>18.16590</td><td>12.2630 </td><td>13.35260</td><td>10.28890</td><td> 7.22926</td><td>11.88580</td><td>11.69140</td><td> 8.36114</td><td>13.52080</td><td>11.88410</td><td>⋯       </td><td>11.80670</td><td>13.24550</td><td>14.05210</td><td>10.43500</td><td>11.67130</td><td>21.66810</td><td>11.16750</td><td>10.79610</td><td>12.64390</td><td>10.75090</td></tr>\n",
       "\t<tr><th scope=row>NCU00005</th><td> 7.59390</td><td>10.4833 </td><td> 9.98661</td><td> 6.06526</td><td>13.31940</td><td> 8.05523</td><td> 6.39237</td><td>10.02530</td><td> 7.57039</td><td> 8.26818</td><td>⋯       </td><td>10.14740</td><td> 6.60491</td><td> 7.14180</td><td> 9.80762</td><td> 6.94721</td><td> 7.23858</td><td> 9.70264</td><td> 6.92626</td><td>10.28320</td><td> 9.53955</td></tr>\n",
       "\t<tr><th scope=row>NCU00006</th><td> 8.13646</td><td>13.2887 </td><td>14.43660</td><td> 7.02290</td><td>16.58520</td><td>11.84210</td><td> 7.15260</td><td>15.94410</td><td>11.13670</td><td> 9.78618</td><td>⋯       </td><td>10.25920</td><td> 6.93328</td><td> 7.93487</td><td> 9.73363</td><td> 6.26978</td><td>10.58170</td><td>10.00790</td><td> 7.61746</td><td>11.07420</td><td>10.65370</td></tr>\n",
       "\t<tr><th scope=row>NCU00007</th><td> 8.25476</td><td>12.6829 </td><td> 8.72479</td><td> 8.33608</td><td>19.27830</td><td> 7.21321</td><td>12.22070</td><td>21.95150</td><td> 7.69846</td><td>14.18370</td><td>⋯       </td><td> 7.29279</td><td> 6.73393</td><td> 9.31756</td><td> 7.37113</td><td> 5.18746</td><td>11.10810</td><td> 7.63542</td><td> 7.29360</td><td> 7.84281</td><td> 6.77245</td></tr>\n",
       "\t<tr><th scope=row>NCU00008</th><td> 9.73339</td><td>11.5292 </td><td>16.54700</td><td> 7.23199</td><td> 8.86995</td><td>14.31700</td><td> 5.45594</td><td> 4.84097</td><td>13.00280</td><td> 6.63640</td><td>⋯       </td><td>14.80570</td><td> 9.34543</td><td>11.96210</td><td>15.14480</td><td>10.58040</td><td>15.82780</td><td>14.06670</td><td> 9.38736</td><td>14.25750</td><td>13.87520</td></tr>\n",
       "</tbody>\n",
       "</table>\n"
      ],
      "text/latex": [
       "\\begin{tabular}{r|llllllllllllllllllllllllllllll}\n",
       "  & X12 & X12.1 & X12.2 & X16 & X16.1 & X16.2 & X20 & X20.1 & X20.2 & X24 & ⋯ & X36.2 & X40 & X40.1 & X40.2 & X44 & X44.1 & X44.2 & X48 & X48.1 & X48.2\\\\\n",
       "\\hline\n",
       "\tNCU00003 & 18.23180 & 11.9564  & 13.96350 & 11.80200 &  7.40746 & 10.28420 & 16.03080 &  8.89317 & 10.98890 & 15.26650 & ⋯        &  9.92339 &  7.63593 & 10.07740 & 10.09710 &  7.33650 & 10.76880 & 10.89410 &  7.36263 & 11.19090 &  9.84929\\\\\n",
       "\tNCU00004 & 18.16590 & 12.2630  & 13.35260 & 10.28890 &  7.22926 & 11.88580 & 11.69140 &  8.36114 & 13.52080 & 11.88410 & ⋯        & 11.80670 & 13.24550 & 14.05210 & 10.43500 & 11.67130 & 21.66810 & 11.16750 & 10.79610 & 12.64390 & 10.75090\\\\\n",
       "\tNCU00005 &  7.59390 & 10.4833  &  9.98661 &  6.06526 & 13.31940 &  8.05523 &  6.39237 & 10.02530 &  7.57039 &  8.26818 & ⋯        & 10.14740 &  6.60491 &  7.14180 &  9.80762 &  6.94721 &  7.23858 &  9.70264 &  6.92626 & 10.28320 &  9.53955\\\\\n",
       "\tNCU00006 &  8.13646 & 13.2887  & 14.43660 &  7.02290 & 16.58520 & 11.84210 &  7.15260 & 15.94410 & 11.13670 &  9.78618 & ⋯        & 10.25920 &  6.93328 &  7.93487 &  9.73363 &  6.26978 & 10.58170 & 10.00790 &  7.61746 & 11.07420 & 10.65370\\\\\n",
       "\tNCU00007 &  8.25476 & 12.6829  &  8.72479 &  8.33608 & 19.27830 &  7.21321 & 12.22070 & 21.95150 &  7.69846 & 14.18370 & ⋯        &  7.29279 &  6.73393 &  9.31756 &  7.37113 &  5.18746 & 11.10810 &  7.63542 &  7.29360 &  7.84281 &  6.77245\\\\\n",
       "\tNCU00008 &  9.73339 & 11.5292  & 16.54700 &  7.23199 &  8.86995 & 14.31700 &  5.45594 &  4.84097 & 13.00280 &  6.63640 & ⋯        & 14.80570 &  9.34543 & 11.96210 & 15.14480 & 10.58040 & 15.82780 & 14.06670 &  9.38736 & 14.25750 & 13.87520\\\\\n",
       "\\end{tabular}\n"
      ],
      "text/markdown": [
       "\n",
       "| <!--/--> | X12 | X12.1 | X12.2 | X16 | X16.1 | X16.2 | X20 | X20.1 | X20.2 | X24 | ⋯ | X36.2 | X40 | X40.1 | X40.2 | X44 | X44.1 | X44.2 | X48 | X48.1 | X48.2 | \n",
       "|---|---|---|---|---|---|\n",
       "| NCU00003 | 18.23180 | 11.9564  | 13.96350 | 11.80200 |  7.40746 | 10.28420 | 16.03080 |  8.89317 | 10.98890 | 15.26650 | ⋯        |  9.92339 |  7.63593 | 10.07740 | 10.09710 |  7.33650 | 10.76880 | 10.89410 |  7.36263 | 11.19090 |  9.84929 | \n",
       "| NCU00004 | 18.16590 | 12.2630  | 13.35260 | 10.28890 |  7.22926 | 11.88580 | 11.69140 |  8.36114 | 13.52080 | 11.88410 | ⋯        | 11.80670 | 13.24550 | 14.05210 | 10.43500 | 11.67130 | 21.66810 | 11.16750 | 10.79610 | 12.64390 | 10.75090 | \n",
       "| NCU00005 |  7.59390 | 10.4833  |  9.98661 |  6.06526 | 13.31940 |  8.05523 |  6.39237 | 10.02530 |  7.57039 |  8.26818 | ⋯        | 10.14740 |  6.60491 |  7.14180 |  9.80762 |  6.94721 |  7.23858 |  9.70264 |  6.92626 | 10.28320 |  9.53955 | \n",
       "| NCU00006 |  8.13646 | 13.2887  | 14.43660 |  7.02290 | 16.58520 | 11.84210 |  7.15260 | 15.94410 | 11.13670 |  9.78618 | ⋯        | 10.25920 |  6.93328 |  7.93487 |  9.73363 |  6.26978 | 10.58170 | 10.00790 |  7.61746 | 11.07420 | 10.65370 | \n",
       "| NCU00007 |  8.25476 | 12.6829  |  8.72479 |  8.33608 | 19.27830 |  7.21321 | 12.22070 | 21.95150 |  7.69846 | 14.18370 | ⋯        |  7.29279 |  6.73393 |  9.31756 |  7.37113 |  5.18746 | 11.10810 |  7.63542 |  7.29360 |  7.84281 |  6.77245 | \n",
       "| NCU00008 |  9.73339 | 11.5292  | 16.54700 |  7.23199 |  8.86995 | 14.31700 |  5.45594 |  4.84097 | 13.00280 |  6.63640 | ⋯        | 14.80570 |  9.34543 | 11.96210 | 15.14480 | 10.58040 | 15.82780 | 14.06670 |  9.38736 | 14.25750 | 13.87520 | \n",
       "\n",
       "\n"
      ],
      "text/plain": [
       "         X12      X12.1   X12.2    X16      X16.1    X16.2    X20      X20.1   \n",
       "NCU00003 18.23180 11.9564 13.96350 11.80200  7.40746 10.28420 16.03080  8.89317\n",
       "NCU00004 18.16590 12.2630 13.35260 10.28890  7.22926 11.88580 11.69140  8.36114\n",
       "NCU00005  7.59390 10.4833  9.98661  6.06526 13.31940  8.05523  6.39237 10.02530\n",
       "NCU00006  8.13646 13.2887 14.43660  7.02290 16.58520 11.84210  7.15260 15.94410\n",
       "NCU00007  8.25476 12.6829  8.72479  8.33608 19.27830  7.21321 12.22070 21.95150\n",
       "NCU00008  9.73339 11.5292 16.54700  7.23199  8.86995 14.31700  5.45594  4.84097\n",
       "         X20.2    X24      ⋯ X36.2    X40      X40.1    X40.2    X44     \n",
       "NCU00003 10.98890 15.26650 ⋯  9.92339  7.63593 10.07740 10.09710  7.33650\n",
       "NCU00004 13.52080 11.88410 ⋯ 11.80670 13.24550 14.05210 10.43500 11.67130\n",
       "NCU00005  7.57039  8.26818 ⋯ 10.14740  6.60491  7.14180  9.80762  6.94721\n",
       "NCU00006 11.13670  9.78618 ⋯ 10.25920  6.93328  7.93487  9.73363  6.26978\n",
       "NCU00007  7.69846 14.18370 ⋯  7.29279  6.73393  9.31756  7.37113  5.18746\n",
       "NCU00008 13.00280  6.63640 ⋯ 14.80570  9.34543 11.96210 15.14480 10.58040\n",
       "         X44.1    X44.2    X48      X48.1    X48.2   \n",
       "NCU00003 10.76880 10.89410  7.36263 11.19090  9.84929\n",
       "NCU00004 21.66810 11.16750 10.79610 12.64390 10.75090\n",
       "NCU00005  7.23858  9.70264  6.92626 10.28320  9.53955\n",
       "NCU00006 10.58170 10.00790  7.61746 11.07420 10.65370\n",
       "NCU00007 11.10810  7.63542  7.29360  7.84281  6.77245\n",
       "NCU00008 15.82780 14.06670  9.38736 14.25750 13.87520"
      ]
     },
     "metadata": {},
     "output_type": "display_data"
    }
   ],
   "source": [
    "dim(dat)\n",
    "head(dat)"
   ]
  },
  {
   "cell_type": "markdown",
   "metadata": {},
   "source": [
    "We plot the behavior of gene `NCU00003` (the first row) across time."
   ]
  },
  {
   "cell_type": "code",
   "execution_count": 31,
   "metadata": {
    "collapsed": false
   },
   "outputs": [
    {
     "data": {
      "text/html": [
       "<table>\n",
       "<thead><tr><th></th><th scope=col>X12</th><th scope=col>X12.1</th><th scope=col>X12.2</th><th scope=col>X16</th><th scope=col>X16.1</th><th scope=col>X16.2</th><th scope=col>X20</th><th scope=col>X20.1</th><th scope=col>X20.2</th><th scope=col>X24</th><th scope=col>⋯</th><th scope=col>X36.2</th><th scope=col>X40</th><th scope=col>X40.1</th><th scope=col>X40.2</th><th scope=col>X44</th><th scope=col>X44.1</th><th scope=col>X44.2</th><th scope=col>X48</th><th scope=col>X48.1</th><th scope=col>X48.2</th></tr></thead>\n",
       "<tbody>\n",
       "\t<tr><th scope=row>NCU00003</th><td>18.2318</td><td>11.9564</td><td>13.9635</td><td>11.802 </td><td>7.40746</td><td>10.2842</td><td>16.0308</td><td>8.89317</td><td>10.9889</td><td>15.2665</td><td>⋯      </td><td>9.92339</td><td>7.63593</td><td>10.0774</td><td>10.0971</td><td>7.3365 </td><td>10.7688</td><td>10.8941</td><td>7.36263</td><td>11.1909</td><td>9.84929</td></tr>\n",
       "</tbody>\n",
       "</table>\n"
      ],
      "text/latex": [
       "\\begin{tabular}{r|llllllllllllllllllllllllllllll}\n",
       "  & X12 & X12.1 & X12.2 & X16 & X16.1 & X16.2 & X20 & X20.1 & X20.2 & X24 & ⋯ & X36.2 & X40 & X40.1 & X40.2 & X44 & X44.1 & X44.2 & X48 & X48.1 & X48.2\\\\\n",
       "\\hline\n",
       "\tNCU00003 & 18.2318 & 11.9564 & 13.9635 & 11.802  & 7.40746 & 10.2842 & 16.0308 & 8.89317 & 10.9889 & 15.2665 & ⋯       & 9.92339 & 7.63593 & 10.0774 & 10.0971 & 7.3365  & 10.7688 & 10.8941 & 7.36263 & 11.1909 & 9.84929\\\\\n",
       "\\end{tabular}\n"
      ],
      "text/markdown": [
       "\n",
       "| <!--/--> | X12 | X12.1 | X12.2 | X16 | X16.1 | X16.2 | X20 | X20.1 | X20.2 | X24 | ⋯ | X36.2 | X40 | X40.1 | X40.2 | X44 | X44.1 | X44.2 | X48 | X48.1 | X48.2 | \n",
       "|---|\n",
       "| NCU00003 | 18.2318 | 11.9564 | 13.9635 | 11.802  | 7.40746 | 10.2842 | 16.0308 | 8.89317 | 10.9889 | 15.2665 | ⋯       | 9.92339 | 7.63593 | 10.0774 | 10.0971 | 7.3365  | 10.7688 | 10.8941 | 7.36263 | 11.1909 | 9.84929 | \n",
       "\n",
       "\n"
      ],
      "text/plain": [
       "         X12     X12.1   X12.2   X16    X16.1   X16.2   X20     X20.1   X20.2  \n",
       "NCU00003 18.2318 11.9564 13.9635 11.802 7.40746 10.2842 16.0308 8.89317 10.9889\n",
       "         X24     ⋯ X36.2   X40     X40.1   X40.2   X44    X44.1   X44.2  \n",
       "NCU00003 15.2665 ⋯ 9.92339 7.63593 10.0774 10.0971 7.3365 10.7688 10.8941\n",
       "         X48     X48.1   X48.2  \n",
       "NCU00003 7.36263 11.1909 9.84929"
      ]
     },
     "metadata": {},
     "output_type": "display_data"
    },
    {
     "data": {
      "text/html": [
       "<ol class=list-inline>\n",
       "\t<li>12</li>\n",
       "\t<li>12</li>\n",
       "\t<li>12</li>\n",
       "\t<li>16</li>\n",
       "\t<li>16</li>\n",
       "\t<li>16</li>\n",
       "\t<li>20</li>\n",
       "\t<li>20</li>\n",
       "\t<li>20</li>\n",
       "\t<li>24</li>\n",
       "\t<li>24</li>\n",
       "\t<li>24</li>\n",
       "\t<li>28</li>\n",
       "\t<li>28</li>\n",
       "\t<li>28</li>\n",
       "\t<li>32</li>\n",
       "\t<li>32</li>\n",
       "\t<li>32</li>\n",
       "\t<li>36</li>\n",
       "\t<li>36</li>\n",
       "\t<li>36</li>\n",
       "\t<li>40</li>\n",
       "\t<li>40</li>\n",
       "\t<li>40</li>\n",
       "\t<li>44</li>\n",
       "\t<li>44</li>\n",
       "\t<li>44</li>\n",
       "\t<li>48</li>\n",
       "\t<li>48</li>\n",
       "\t<li>48</li>\n",
       "</ol>\n"
      ],
      "text/latex": [
       "\\begin{enumerate*}\n",
       "\\item 12\n",
       "\\item 12\n",
       "\\item 12\n",
       "\\item 16\n",
       "\\item 16\n",
       "\\item 16\n",
       "\\item 20\n",
       "\\item 20\n",
       "\\item 20\n",
       "\\item 24\n",
       "\\item 24\n",
       "\\item 24\n",
       "\\item 28\n",
       "\\item 28\n",
       "\\item 28\n",
       "\\item 32\n",
       "\\item 32\n",
       "\\item 32\n",
       "\\item 36\n",
       "\\item 36\n",
       "\\item 36\n",
       "\\item 40\n",
       "\\item 40\n",
       "\\item 40\n",
       "\\item 44\n",
       "\\item 44\n",
       "\\item 44\n",
       "\\item 48\n",
       "\\item 48\n",
       "\\item 48\n",
       "\\end{enumerate*}\n"
      ],
      "text/markdown": [
       "1. 12\n",
       "2. 12\n",
       "3. 12\n",
       "4. 16\n",
       "5. 16\n",
       "6. 16\n",
       "7. 20\n",
       "8. 20\n",
       "9. 20\n",
       "10. 24\n",
       "11. 24\n",
       "12. 24\n",
       "13. 28\n",
       "14. 28\n",
       "15. 28\n",
       "16. 32\n",
       "17. 32\n",
       "18. 32\n",
       "19. 36\n",
       "20. 36\n",
       "21. 36\n",
       "22. 40\n",
       "23. 40\n",
       "24. 40\n",
       "25. 44\n",
       "26. 44\n",
       "27. 44\n",
       "28. 48\n",
       "29. 48\n",
       "30. 48\n",
       "\n",
       "\n"
      ],
      "text/plain": [
       " [1] 12 12 12 16 16 16 20 20 20 24 24 24 28 28 28 32 32 32 36 36 36 40 40 40 44\n",
       "[26] 44 44 48 48 48"
      ]
     },
     "metadata": {},
     "output_type": "display_data"
    },
    {
     "data": {
      "text/html": [
       "<ol class=list-inline>\n",
       "\t<li>1</li>\n",
       "\t<li>2</li>\n",
       "\t<li>3</li>\n",
       "\t<li>1</li>\n",
       "\t<li>2</li>\n",
       "\t<li>3</li>\n",
       "\t<li>1</li>\n",
       "\t<li>2</li>\n",
       "\t<li>3</li>\n",
       "\t<li>1</li>\n",
       "\t<li>2</li>\n",
       "\t<li>3</li>\n",
       "\t<li>1</li>\n",
       "\t<li>2</li>\n",
       "\t<li>3</li>\n",
       "\t<li>1</li>\n",
       "\t<li>2</li>\n",
       "\t<li>3</li>\n",
       "\t<li>1</li>\n",
       "\t<li>2</li>\n",
       "\t<li>3</li>\n",
       "\t<li>1</li>\n",
       "\t<li>2</li>\n",
       "\t<li>3</li>\n",
       "\t<li>1</li>\n",
       "\t<li>2</li>\n",
       "\t<li>3</li>\n",
       "\t<li>1</li>\n",
       "\t<li>2</li>\n",
       "\t<li>3</li>\n",
       "</ol>\n"
      ],
      "text/latex": [
       "\\begin{enumerate*}\n",
       "\\item 1\n",
       "\\item 2\n",
       "\\item 3\n",
       "\\item 1\n",
       "\\item 2\n",
       "\\item 3\n",
       "\\item 1\n",
       "\\item 2\n",
       "\\item 3\n",
       "\\item 1\n",
       "\\item 2\n",
       "\\item 3\n",
       "\\item 1\n",
       "\\item 2\n",
       "\\item 3\n",
       "\\item 1\n",
       "\\item 2\n",
       "\\item 3\n",
       "\\item 1\n",
       "\\item 2\n",
       "\\item 3\n",
       "\\item 1\n",
       "\\item 2\n",
       "\\item 3\n",
       "\\item 1\n",
       "\\item 2\n",
       "\\item 3\n",
       "\\item 1\n",
       "\\item 2\n",
       "\\item 3\n",
       "\\end{enumerate*}\n"
      ],
      "text/markdown": [
       "1. 1\n",
       "2. 2\n",
       "3. 3\n",
       "4. 1\n",
       "5. 2\n",
       "6. 3\n",
       "7. 1\n",
       "8. 2\n",
       "9. 3\n",
       "10. 1\n",
       "11. 2\n",
       "12. 3\n",
       "13. 1\n",
       "14. 2\n",
       "15. 3\n",
       "16. 1\n",
       "17. 2\n",
       "18. 3\n",
       "19. 1\n",
       "20. 2\n",
       "21. 3\n",
       "22. 1\n",
       "23. 2\n",
       "24. 3\n",
       "25. 1\n",
       "26. 2\n",
       "27. 3\n",
       "28. 1\n",
       "29. 2\n",
       "30. 3\n",
       "\n",
       "\n"
      ],
      "text/plain": [
       " [1] 1 2 3 1 2 3 1 2 3 1 2 3 1 2 3 1 2 3 1 2 3 1 2 3 1 2 3 1 2 3"
      ]
     },
     "metadata": {},
     "output_type": "display_data"
    }
   ],
   "source": [
    "## first get predictor (=time) and response (=gene expression) \n",
    "gene_name <- \"NCU00003\"\n",
    "y <- dat[gene_name,]\n",
    "y\n",
    "ti <- 4*(1:10) + 8\n",
    "ti <- rep(ti,each=3)\n",
    "ti\n",
    "rep_num <- rep(1:3,10)\n",
    "rep_num"
   ]
  },
  {
   "cell_type": "code",
   "execution_count": 32,
   "metadata": {
    "collapsed": false
   },
   "outputs": [
    {
     "data": {
      "image/png": "[encoded data removed]",
      "text/plain": [
       "plot without title"
      ]
     },
     "metadata": {},
     "output_type": "display_data"
    }
   ],
   "source": [
    "options(repr.plot.width=6,repr.plot.height=4)\n",
    "cols <- c(\"black\",\"orange\",\"blue\")\n",
    "par(mar=c(5,5,1,1))\n",
    "plot(ti,y,col=cols[rep_num],pch=rep_num,xlab=\"time\",ylab=\"expression\")\n",
    "legend(\"topright\",c(\"Replicate 1\",\"Replicate 2\",\"Replicate 3\"),pch=rep_num,col=cols[rep_num])"
   ]
  },
  {
   "cell_type": "markdown",
   "metadata": {},
   "source": [
    "There is no obvious pattern in the variation of this gene across time. The expression appears somewhat random."
   ]
  },
  {
   "cell_type": "markdown",
   "metadata": {},
   "source": [
    "## Circadian Gene\n",
    "\n",
    "We make a plot for a more circadian gene."
   ]
  },
  {
   "cell_type": "code",
   "execution_count": 74,
   "metadata": {
    "collapsed": false
   },
   "outputs": [
    {
     "data": {
      "text/html": [
       "<table>\n",
       "<thead><tr><th></th><th scope=col>X12</th><th scope=col>X12.1</th><th scope=col>X12.2</th><th scope=col>X16</th><th scope=col>X16.1</th><th scope=col>X16.2</th><th scope=col>X20</th><th scope=col>X20.1</th><th scope=col>X20.2</th><th scope=col>X24</th><th scope=col>⋯</th><th scope=col>X36.2</th><th scope=col>X40</th><th scope=col>X40.1</th><th scope=col>X40.2</th><th scope=col>X44</th><th scope=col>X44.1</th><th scope=col>X44.2</th><th scope=col>X48</th><th scope=col>X48.1</th><th scope=col>X48.2</th></tr></thead>\n",
       "<tbody>\n",
       "\t<tr><th scope=row>NCU08135</th><td>5.12862</td><td>7.08528</td><td>13.5047</td><td>4.13878</td><td>6.12077</td><td>10.6404</td><td>4.18332</td><td>6.68682</td><td>10.3206</td><td>6.7309 </td><td>⋯      </td><td>8.1137 </td><td>4.89108</td><td>5.36131</td><td>8.87318</td><td>5.24356</td><td>6.74978</td><td>9.27523</td><td>6.10163</td><td>10.1659</td><td>9.34857</td></tr>\n",
       "</tbody>\n",
       "</table>\n"
      ],
      "text/latex": [
       "\\begin{tabular}{r|llllllllllllllllllllllllllllll}\n",
       "  & X12 & X12.1 & X12.2 & X16 & X16.1 & X16.2 & X20 & X20.1 & X20.2 & X24 & ⋯ & X36.2 & X40 & X40.1 & X40.2 & X44 & X44.1 & X44.2 & X48 & X48.1 & X48.2\\\\\n",
       "\\hline\n",
       "\tNCU08135 & 5.12862 & 7.08528 & 13.5047 & 4.13878 & 6.12077 & 10.6404 & 4.18332 & 6.68682 & 10.3206 & 6.7309  & ⋯       & 8.1137  & 4.89108 & 5.36131 & 8.87318 & 5.24356 & 6.74978 & 9.27523 & 6.10163 & 10.1659 & 9.34857\\\\\n",
       "\\end{tabular}\n"
      ],
      "text/markdown": [
       "\n",
       "| <!--/--> | X12 | X12.1 | X12.2 | X16 | X16.1 | X16.2 | X20 | X20.1 | X20.2 | X24 | ⋯ | X36.2 | X40 | X40.1 | X40.2 | X44 | X44.1 | X44.2 | X48 | X48.1 | X48.2 | \n",
       "|---|\n",
       "| NCU08135 | 5.12862 | 7.08528 | 13.5047 | 4.13878 | 6.12077 | 10.6404 | 4.18332 | 6.68682 | 10.3206 | 6.7309  | ⋯       | 8.1137  | 4.89108 | 5.36131 | 8.87318 | 5.24356 | 6.74978 | 9.27523 | 6.10163 | 10.1659 | 9.34857 | \n",
       "\n",
       "\n"
      ],
      "text/plain": [
       "         X12     X12.1   X12.2   X16     X16.1   X16.2   X20     X20.1  \n",
       "NCU08135 5.12862 7.08528 13.5047 4.13878 6.12077 10.6404 4.18332 6.68682\n",
       "         X20.2   X24    ⋯ X36.2  X40     X40.1   X40.2   X44     X44.1  \n",
       "NCU08135 10.3206 6.7309 ⋯ 8.1137 4.89108 5.36131 8.87318 5.24356 6.74978\n",
       "         X44.2   X48     X48.1   X48.2  \n",
       "NCU08135 9.27523 6.10163 10.1659 9.34857"
      ]
     },
     "metadata": {},
     "output_type": "display_data"
    }
   ],
   "source": [
    "gene_name <- \"NCU08135\"\n",
    "y <- dat[gene_name,]\n",
    "y"
   ]
  },
  {
   "cell_type": "code",
   "execution_count": 75,
   "metadata": {
    "collapsed": false
   },
   "outputs": [
    {
     "data": {
      "text/html": [
       "<ol class=list-inline>\n",
       "\t<li>12</li>\n",
       "\t<li>12</li>\n",
       "\t<li>12</li>\n",
       "\t<li>16</li>\n",
       "\t<li>16</li>\n",
       "\t<li>16</li>\n",
       "\t<li>20</li>\n",
       "\t<li>20</li>\n",
       "\t<li>20</li>\n",
       "\t<li>24</li>\n",
       "\t<li>24</li>\n",
       "\t<li>24</li>\n",
       "\t<li>28</li>\n",
       "\t<li>28</li>\n",
       "\t<li>28</li>\n",
       "\t<li>32</li>\n",
       "\t<li>32</li>\n",
       "\t<li>32</li>\n",
       "\t<li>36</li>\n",
       "\t<li>36</li>\n",
       "\t<li>36</li>\n",
       "\t<li>40</li>\n",
       "\t<li>40</li>\n",
       "\t<li>40</li>\n",
       "\t<li>44</li>\n",
       "\t<li>44</li>\n",
       "\t<li>44</li>\n",
       "\t<li>48</li>\n",
       "\t<li>48</li>\n",
       "\t<li>48</li>\n",
       "</ol>\n"
      ],
      "text/latex": [
       "\\begin{enumerate*}\n",
       "\\item 12\n",
       "\\item 12\n",
       "\\item 12\n",
       "\\item 16\n",
       "\\item 16\n",
       "\\item 16\n",
       "\\item 20\n",
       "\\item 20\n",
       "\\item 20\n",
       "\\item 24\n",
       "\\item 24\n",
       "\\item 24\n",
       "\\item 28\n",
       "\\item 28\n",
       "\\item 28\n",
       "\\item 32\n",
       "\\item 32\n",
       "\\item 32\n",
       "\\item 36\n",
       "\\item 36\n",
       "\\item 36\n",
       "\\item 40\n",
       "\\item 40\n",
       "\\item 40\n",
       "\\item 44\n",
       "\\item 44\n",
       "\\item 44\n",
       "\\item 48\n",
       "\\item 48\n",
       "\\item 48\n",
       "\\end{enumerate*}\n"
      ],
      "text/markdown": [
       "1. 12\n",
       "2. 12\n",
       "3. 12\n",
       "4. 16\n",
       "5. 16\n",
       "6. 16\n",
       "7. 20\n",
       "8. 20\n",
       "9. 20\n",
       "10. 24\n",
       "11. 24\n",
       "12. 24\n",
       "13. 28\n",
       "14. 28\n",
       "15. 28\n",
       "16. 32\n",
       "17. 32\n",
       "18. 32\n",
       "19. 36\n",
       "20. 36\n",
       "21. 36\n",
       "22. 40\n",
       "23. 40\n",
       "24. 40\n",
       "25. 44\n",
       "26. 44\n",
       "27. 44\n",
       "28. 48\n",
       "29. 48\n",
       "30. 48\n",
       "\n",
       "\n"
      ],
      "text/plain": [
       " [1] 12 12 12 16 16 16 20 20 20 24 24 24 28 28 28 32 32 32 36 36 36 40 40 40 44\n",
       "[26] 44 44 48 48 48"
      ]
     },
     "metadata": {},
     "output_type": "display_data"
    }
   ],
   "source": [
    "ti"
   ]
  },
  {
   "cell_type": "code",
   "execution_count": 76,
   "metadata": {
    "collapsed": false
   },
   "outputs": [
    {
     "data": {
      "image/png": "[encoded data removed]",
      "text/plain": [
       "plot without title"
      ]
     },
     "metadata": {},
     "output_type": "display_data"
    }
   ],
   "source": [
    "cols <- c(\"black\",\"orange\",\"blue\")\n",
    "par(mar=c(5,5,1,1))\n",
    "plot(ti,y,col=cols[rep_num],pch=rep_num,xlab=\"time\",ylab=\"expression\")\n",
    "legend(\"topright\",c(\"Replicate 1\",\"Replicate 2\",\"Replicate 3\"),pch=rep_num,col=cols[rep_num])"
   ]
  },
  {
   "cell_type": "markdown",
   "metadata": {
    "collapsed": true
   },
   "source": [
    "## Possible Project Directions\n",
    "\n",
    "* Determine the sorts of shapes that circadian genes have and then build algorithms which are specifically designed to detect those shapes.\n",
    "\n",
    "* Find groups of circadian genes that have similar phases, amplitudes, or expression\n",
    "\n",
    "* Analyze a data set collected by your lab. Perhaps compare results you got from using JTK to results from using other methods. We can get this get this to you.\n",
    "\n",
    "* Develop a method that returns the probability that a gene is circadian, rather than a p-value.\n",
    "\n",
    "* Study how to use multiple measure of expression made at the same time point. Is averaging the expressions best, or is there some other procedure which works better?"
   ]
  },
  {
   "cell_type": "code",
   "execution_count": null,
   "metadata": {
    "collapsed": true
   },
   "outputs": [],
   "source": []
  }
 ],
 "metadata": {
  "kernelspec": {
   "display_name": "R",
   "language": "R",
   "name": "ir"
  },
  "language_info": {
   "codemirror_mode": "r",
   "file_extension": ".r",
   "mimetype": "text/x-r-source",
   "name": "R",
   "pygments_lexer": "r",
   "version": "3.4.3"
  }
 },
 "nbformat": 4,
 "nbformat_minor": 1
}
